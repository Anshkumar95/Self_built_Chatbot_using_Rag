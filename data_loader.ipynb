{
 "cells": [
  {
   "cell_type": "code",
   "execution_count": 3,
   "metadata": {},
   "outputs": [
    {
     "name": "stdout",
     "output_type": "stream",
     "text": [
      "Uploaded A-Study-on-Consumer-Brand-Awareness-of-Fast-Moving-Consumer-Goods.pdf to raw-reports\n"
     ]
    }
   ],
   "source": [
    "import os\n",
    "import boto3\n",
    "\n",
    "# Configuration\n",
    "local_directory = \"/Users/anshumankumar/Gen_AI/Test_bot/Data_dump\"\n",
    "bucket_name = \"raw-reports\"\n",
    "minio_url = \"http://localhost:9000\"\n",
    "minio_access_key = \"admin\"\n",
    "minio_secret_key = \"admin123\"\n",
    "\n",
    "# Set up MinIO client\n",
    "s3_client = boto3.client(\n",
    "    's3',\n",
    "    endpoint_url=minio_url,\n",
    "    aws_access_key_id=minio_access_key,\n",
    "    aws_secret_access_key=minio_secret_key\n",
    ")\n",
    "\n",
    "# Function to upload files\n",
    "def upload_files(directory, bucket):\n",
    "    for root, dirs, files in os.walk(directory):\n",
    "        for file in files:\n",
    "            file_path = os.path.join(root, file)\n",
    "            s3_client.upload_file(file_path, bucket, file)\n",
    "            print(f\"Uploaded {file} to {bucket}\")\n",
    "\n",
    "# Upload files from local directory to MinIO\n",
    "upload_files(local_directory, bucket_name)"
   ]
  },
  {
   "cell_type": "code",
   "execution_count": null,
   "metadata": {},
   "outputs": [],
   "source": []
  }
 ],
 "metadata": {
  "kernelspec": {
   "display_name": "base",
   "language": "python",
   "name": "python3"
  },
  "language_info": {
   "codemirror_mode": {
    "name": "ipython",
    "version": 3
   },
   "file_extension": ".py",
   "mimetype": "text/x-python",
   "name": "python",
   "nbconvert_exporter": "python",
   "pygments_lexer": "ipython3",
   "version": "3.10.14"
  }
 },
 "nbformat": 4,
 "nbformat_minor": 2
}
